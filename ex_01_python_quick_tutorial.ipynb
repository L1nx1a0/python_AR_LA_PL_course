{
 "cells": [
  {
   "cell_type": "code",
   "execution_count": 1,
   "id": "1b08ddd3-ff96-46f2-b11c-05b6f6bbf4c1",
   "metadata": {},
   "outputs": [
    {
     "name": "stdout",
     "output_type": "stream",
     "text": [
      "hello world\n"
     ]
    }
   ],
   "source": [
    "print(\"hello world\")"
   ]
  },
  {
   "cell_type": "code",
   "execution_count": 2,
   "id": "5ceaf59e-3e4f-4092-81c4-bb88a6874efb",
   "metadata": {},
   "outputs": [
    {
     "name": "stdout",
     "output_type": "stream",
     "text": [
      "____________________________________________________________________________________________________\n"
     ]
    }
   ],
   "source": [
    "print(\"_\"*100)"
   ]
  },
  {
   "cell_type": "code",
   "execution_count": 3,
   "id": "5cfb4c0b-7089-4285-b578-8f5d7f370ba9",
   "metadata": {},
   "outputs": [
    {
     "name": "stdout",
     "output_type": "stream",
     "text": [
      "加： 6\n",
      "减： 2\n",
      "乘： 9\n",
      "除： 1.0\n",
      "整除： 1\n",
      "余数： 1\n",
      "幂： 27\n"
     ]
    }
   ],
   "source": [
    "print(\"加：\",3+3) \n",
    "print(\"减：\",3-1)\n",
    "print(\"乘：\",3*3)\n",
    "print(\"除：\", 3/3)\n",
    "print(\"整除：\", 3//2)\n",
    "print(\"余数：\", 3%2)\n",
    "print(\"幂：\",3**3)"
   ]
  },
  {
   "cell_type": "code",
   "execution_count": 4,
   "id": "4111c558-1fc9-4dda-83d0-4d6623fe374f",
   "metadata": {},
   "outputs": [
    {
     "name": "stdout",
     "output_type": "stream",
     "text": [
      "111\n"
     ]
    }
   ],
   "source": [
    "x=55\n",
    "func=2*x+1 \n",
    "print(func)\n"
   ]
  },
  {
   "cell_type": "code",
   "execution_count": 5,
   "id": "879c00e5-f32b-4b21-81a8-44c4be4620cd",
   "metadata": {},
   "outputs": [
    {
     "name": "stdout",
     "output_type": "stream",
     "text": [
      "monadic_equation= 111\n",
      "monadic_equation=111.00\n",
      "monadic_equation=111.00\n"
     ]
    }
   ],
   "source": [
    "x=55\n",
    "monadic_equation=2*x+1\n",
    "print(\"monadic_equation=\",monadic_equation)\n",
    "print(\"monadic_equation=%.2f\"%monadic_equation) \n",
    "print(\"monadic_equation={:.2f}\".format(monadic_equation)) \n"
   ]
  },
  {
   "cell_type": "code",
   "execution_count": 6,
   "id": "70f8b730-0985-4735-9924-e751090bfe3f",
   "metadata": {},
   "outputs": [
    {
     "name": "stdout",
     "output_type": "stream",
     "text": [
      "monadic_equation= 111.0\n",
      "monadic_equation=111.00\n",
      "monadic_equation=111.00\n"
     ]
    }
   ],
   "source": [
    "x=55.0\n",
    "monadic_equation=2*x+1\n",
    "print(\"monadic_equation=\",monadic_equation)\n",
    "print(\"monadic_equation=%.2f\"%monadic_equation) \n",
    "print(\"monadic_equation={:.2f}\".format(monadic_equation)) \n"
   ]
  },
  {
   "cell_type": "code",
   "execution_count": 9,
   "id": "46aade27-d01c-4e20-bb3a-b5d5ce34b373",
   "metadata": {},
   "outputs": [
    {
     "name": "stdout",
     "output_type": "stream",
     "text": [
      "The longitude of Beijing coordinate is 116.41, and the latitude is 39.\n"
     ]
    }
   ],
   "source": [
    "city_name=\"Beijing\"\n",
    "coordinate_longitude=116.41\n",
    "coordiante_latitude=39\n",
    "print(\"The longitude of Beijing coordinate is {lon:.2f}, and the latitude is {lat}.\".format(lon=coordinate_longitude,lat=coordiante_latitude))\n"
   ]
  },
  {
   "cell_type": "code",
   "execution_count": 10,
   "id": "1e751258-01e3-4034-8a33-e554651de205",
   "metadata": {},
   "outputs": [
    {
     "name": "stdout",
     "output_type": "stream",
     "text": [
      "func_2=1\n"
     ]
    }
   ],
   "source": [
    "x,y,b=1,1,1\n",
    "func_2=2*x+3*y+b\n",
    "print(\"func_2={}\".format(x,y,b,func_2))\n"
   ]
  },
  {
   "cell_type": "code",
   "execution_count": 12,
   "id": "d61ef94c-a9b4-41da-a6f4-33901d7bef94",
   "metadata": {},
   "outputs": [
    {
     "name": "stdout",
     "output_type": "stream",
     "text": [
      "[10, 39, 68, 97, 126, 155, 184, 213, 242, 271, 300, 329, 358, 387, 416, 445, 474, 503, 532, 561, 590, 619, 648, 677, 706, 735, 764, 793, 822, 851, 880, 909, 938, 967, 996]\n",
      "The list length=35\n",
      "Maximum value=996\n",
      "Minimum value=10\n"
     ]
    }
   ],
   "source": [
    "lst=list(range(10,1000,29)) \n",
    "print(lst)\n",
    "print(\"The list length={}\".format(len(lst_n)))\n",
    "print(\"Maximum value={}\".format(max(lst_n)))\n",
    "print(\"Minimum value={}\".format(min(lst_n)))\n"
   ]
  },
  {
   "cell_type": "code",
   "execution_count": 13,
   "id": "49670fc1-05d2-4dbd-836a-1e2aa562c4ca",
   "metadata": {},
   "outputs": [
    {
     "name": "stdout",
     "output_type": "stream",
     "text": [
      "['d', 'e', 'f', 'g', 'h', 'i', 'j', 'k', 'l', 'm']\n",
      "__________________________________________________\n",
      "[3:6]->['g', 'h', 'i']\n",
      "[-3:-1]->['k', 'l']\n",
      "[-3:]->['k', 'l', 'm']\n",
      "[:3]->['d', 'e', 'f']\n",
      "[:]->['d', 'e', 'f', 'g', 'h', 'i', 'j', 'k', 'l', 'm']\n"
     ]
    }
   ],
   "source": [
    "lst_s=list(map(chr,range(100,110)))\n",
    "print(lst_s)\n",
    "print(\"_\"*50)\n",
    "print(\"[3:6]->{}\".format(lst_s[3:6]))\n",
    "print(\"[-3:-1]->{}\".format(lst_s[-3:-1]))\n",
    "print(\"[-3:]->{}\".format(lst_s[-3:]))\n",
    "print(\"[:3]->{}\".format(lst_s[:3]))\n",
    "print(\"[:]->{}\".format(lst_s[:]))"
   ]
  },
  {
   "cell_type": "code",
   "execution_count": 15,
   "id": "e91b358d-3259-422f-801b-95b8808a0c75",
   "metadata": {},
   "outputs": [
    {
     "name": "stdout",
     "output_type": "stream",
     "text": [
      "555\n"
     ]
    }
   ],
   "source": [
    "TAT=555\n",
    "print((TAT))"
   ]
  },
  {
   "cell_type": "code",
   "execution_count": 16,
   "id": "54270d19-f8e1-43a7-a0d4-2b5aa65d0a57",
   "metadata": {},
   "outputs": [
    {
     "name": "stdout",
     "output_type": "stream",
     "text": [
      "Help on class map in module builtins:\n",
      "\n",
      "class map(object)\n",
      " |  map(func, *iterables) --> map object\n",
      " |  \n",
      " |  Make an iterator that computes the function using arguments from\n",
      " |  each of the iterables.  Stops when the shortest iterable is exhausted.\n",
      " |  \n",
      " |  Methods defined here:\n",
      " |  \n",
      " |  __getattribute__(self, name, /)\n",
      " |      Return getattr(self, name).\n",
      " |  \n",
      " |  __iter__(self, /)\n",
      " |      Implement iter(self).\n",
      " |  \n",
      " |  __next__(self, /)\n",
      " |      Implement next(self).\n",
      " |  \n",
      " |  __reduce__(...)\n",
      " |      Return state information for pickling.\n",
      " |  \n",
      " |  ----------------------------------------------------------------------\n",
      " |  Static methods defined here:\n",
      " |  \n",
      " |  __new__(*args, **kwargs) from builtins.type\n",
      " |      Create and return a new object.  See help(type) for accurate signature.\n",
      "\n"
     ]
    }
   ],
   "source": [
    "help(map)"
   ]
  },
  {
   "cell_type": "code",
   "execution_count": 17,
   "id": "096801d4-0548-46ad-a8a0-6080264e5449",
   "metadata": {},
   "outputs": [
    {
     "name": "stdout",
     "output_type": "stream",
     "text": [
      "Help on built-in function chr in module builtins:\n",
      "\n",
      "chr(i, /)\n",
      "    Return a Unicode string of one character with ordinal i; 0 <= i <= 0x10ffff.\n",
      "\n"
     ]
    }
   ],
   "source": [
    "help(chr)"
   ]
  },
  {
   "cell_type": "code",
   "execution_count": 18,
   "id": "5c3c19ab-43fd-4706-bfaa-8d88bc42e8e3",
   "metadata": {},
   "outputs": [
    {
     "name": "stdout",
     "output_type": "stream",
     "text": [
      "['d', 'e', 'f', 'g', 'h', 'i', 'j', 'k', 'l', 'm']\n",
      "========================================================================================================================\n",
      "[0:10:4]->['d', 'h', 'l']\n",
      "[::7]->['d', 'k']\n",
      "[3:3:-2]->[]\n",
      "[20:3:-2]->['m', 'k', 'i']\n",
      "[7::2]->['k', 'm']\n",
      "[:3:-2]->['m', 'k', 'i']\n"
     ]
    }
   ],
   "source": [
    "print(lst_s)\n",
    "print(\"=\"*120)\n",
    "print(\"[0:10:4]->{}\".format(lst_s[0:10:4]))\n",
    "print(\"[::7]->{}\".format(lst_s[::7]))\n",
    "print(\"[3:3:-2]->{}\".format(lst_s[3:3:-2]))\n",
    "print(\"[20:3:-2]->{}\".format(lst_s[20:3:-2]))\n",
    "print(\"[7::2]->{}\".format(lst_s[7::2]))\n",
    "print(\"[:3:-2]->{}\".format(lst_s[:3:-2]))\n"
   ]
  },
  {
   "cell_type": "code",
   "execution_count": 23,
   "id": "9043039b-855c-41a4-83b6-84e72224ea1f",
   "metadata": {},
   "outputs": [
    {
     "name": "stdout",
     "output_type": "stream",
     "text": [
      "['d', 'e', 'f', 'g', 'h', 20, 'j', 'k', 'l', 'm']\n",
      "________________________________________________________________________________________________________________________\n",
      "lst_s[5]=20->['d', 'e', 'f', 'g', 'h', 20, 'j', 'k', 'l', 'm']\n",
      "lst_s+[None]*20->['d', 'e', 'f', 'g', 'h', 20, 'j', 'k', 'l', 'm', None, None, None, None, None, None, None, None, None, None, None, None, None, None, None, None, None, None, None, None]\n"
     ]
    }
   ],
   "source": [
    "print(lst_s)\n",
    "print(\"_\"*120)\n",
    "lst_s[5]=20\n",
    "print(\"lst_s[5]=20->{}\".format(lst_s))\n",
    "print(\"lst_s+[None]*20->{}\".format(lst_none))"
   ]
  },
  {
   "cell_type": "code",
   "execution_count": 24,
   "id": "fe3456c7-e0c7-450e-9a1a-0b6480b415db",
   "metadata": {},
   "outputs": [
    {
     "name": "stdout",
     "output_type": "stream",
     "text": [
      "lst_none[13]=2015->['d', 'e', 'f', 'g', 'h', 20, 'j', 'k', 'l', 'm', None, None, None, 2015, None, None, None, None, None, None, None, None, None, None, None, None, None, None, None, None]\n",
      "lst_none[-6:-3]=list(range(100,104,2))->['d', 'e', 'f', 'g', 'h', 20, 'j', 'k', 'l', 'm', None, None, None, 2015, None, None, None, None, None, None, None, None, None, None, 100, 102, None, None, None]\n",
      "lst_none[1:1]=[0,0,0,12]->['d', 0, 0, 0, 12, 'e', 'f', 'g', 'h', 20, 'j', 'k', 'l', 'm', None, None, None, 2015, None, None, None, None, None, None, None, None, None, None, 100, 102, None, None, None]\n",
      "del lst_none[-2:]->['d', 0, 0, 0, 12, 'e', 'f', 'g', 'h', 20, 'j', 'k', 'l', 'm', None, None, None, 2015, None, None, None, None, None, None, None, None, None, None, 100, 102, None]\n"
     ]
    }
   ],
   "source": [
    "lst_none[13]=2015\n",
    "print(\"lst_none[13]=2015->{}\".format(lst_none))\n",
    "lst_none[-6:-3]=list(range(100,104,2)) \n",
    "print(\"lst_none[-6:-3]=list(range(100,104,2))->{}\".format(lst_none))\n",
    "lst_none[1:1]=[0,0,0,12]\n",
    "print(\"lst_none[1:1]=[0,0,0,12]->{}\".format(lst_none))\n",
    "del lst_none[-2:] \n",
    "print(\"del lst_none[-2:]->{}\".format(lst_none))"
   ]
  },
  {
   "cell_type": "code",
   "execution_count": 25,
   "id": "07fc1168-aa53-41d9-9d9c-651900b4db4b",
   "metadata": {},
   "outputs": [
    {
     "name": "stdout",
     "output_type": "stream",
     "text": [
      "['d', 'e', 'f', 'g', 'h']\n",
      "========================================================================================================================\n",
      "lst_s_2.append(99)->['d', 'e', 'f', 'g', 'h', 99]\n",
      "lst_s_2.append(list(range(50,80,5)))->['d', 'e', 'f', 'g', 'h', 99, [50, 55, 60, 65, 70, 75]]\n",
      "lst_s_2.extend(lst_spechars)->['d', 'e', 'f', 'g', 'h', 99, [50, 55, 60, 65, 70, 75], '*', ')', '*']\n",
      "lst_s_2.count('*')=2\n",
      "lst_s_2.index('e')=1\n",
      "lst_s_2.insert(2,[1000,1200,1500])->['d', 'e', [1000, 1200, 1500], 'f', 'g', 'h', 99, [50, 55, 60, 65, 70, 75], '*', ')', '*']\n",
      "lst_s_2.pop(7)_popup->[50, 55, 60, 65, 70, 75]\n",
      "lst_s_2.pop(7)_retention->['d', 'e', [1000, 1200, 1500], 'f', 'g', 'h', 99, '*', ')', '*']\n",
      "lst_s_2.remove('*')_retention->['d', 'e', [1000, 1200, 1500], 'f', 'g', 'h', 99, ')', '*']\n",
      "list_n_2.sort()->[2, 3, 4, 6, 42, 95]\n"
     ]
    }
   ],
   "source": [
    "lst_s_2=list(map(chr,range(100,105)))\n",
    "print(lst_s_2)\n",
    "print(\"=\"*120)\n",
    "lst_s_2.append(99)\n",
    "print(\"lst_s_2.append(99)->{}\".format(lst_s_2))\n",
    "lst_s_2.append(list(range(50,80,5)))\n",
    "print(\"lst_s_2.append(list(range(50,80,5)))->{}\".format(lst_s_2))\n",
    "lst_spechars=['*',')','*']\n",
    "lst_s_2.extend(lst_spechars)\n",
    "print(\"lst_s_2.extend(lst_spechars)->{}\".format(lst_s_2))\n",
    "print(\"lst_s_2.count('*')={}\".format(lst_s_2.count('*')))\n",
    "print(\"lst_s_2.index('e')={}\".format(lst_s_2.index('e')))\n",
    "lst_s_2.insert(2,[1000,1200,1500])\n",
    "print(\"lst_s_2.insert(2,[1000,1200,1500])->{}\".format(lst_s_2))\n",
    "print(\"lst_s_2.pop(7)_popup->{}\".format(lst_s_2.pop(7)))\n",
    "print(\"lst_s_2.pop(7)_retention->{}\".format(lst_s_2))\n",
    "lst_s_2.remove('*')\n",
    "print(\"lst_s_2.remove('*')_retention->{}\".format(lst_s_2))\n",
    "list_n_2=[2,42,6,95,4,3]\n",
    "list_n_2.sort()\n",
    "print(\"list_n_2.sort()->{}\".format(list_n_2))\n"
   ]
  },
  {
   "cell_type": "code",
   "execution_count": 1,
   "id": "45b7e92b-0867-4d0c-a8d7-c9e1c6eca097",
   "metadata": {},
   "outputs": [
    {
     "name": "stdout",
     "output_type": "stream",
     "text": [
      "tuple_1=2,3,5,->(3, 9, 6)\n",
      "1*(20*7,)->(140,)\n",
      "tuple((7,7,7))->(7, 7, 7)\n",
      "tuple([1,1,19])->(1, 1, 19)\n"
     ]
    }
   ],
   "source": [
    "tuple_1=3,9,6,\n",
    "print(\"tuple_1=2,3,5,->{}\".format(tuple_1))\n",
    "print(\"1*(20*7,)->{}\".format(1*(20*7,)))\n",
    "print(\"tuple((7,7,7))->{}\".format(tuple((7,7,7)))) \n",
    "print(\"tuple([1,1,19])->{}\".format(tuple([1,1,19]))) \n"
   ]
  },
  {
   "cell_type": "code",
   "execution_count": 8,
   "id": "d9a94a4e-5996-4ff7-8c15-42b3fa097170",
   "metadata": {},
   "outputs": [
    {
     "name": "stdout",
     "output_type": "stream",
     "text": [
      "items->[(0, [0, 1, 2, 3, 4, 5, 6, 7, 8, 9]), (1, [[146, 174, 152]]), (2, 'python')]\n",
      "dic=dict(items)->{0: [0, 1, 2, 3, 4, 5, 6, 7, 8, 9], 1: [[146, 174, 152]], 2: 'python'}\n",
      "dic[1]->[[146, 174, 152]]\n"
     ]
    }
   ],
   "source": [
    "import random\n",
    "items=[(0,[i for i in range(10)]),(1,[random.sample(list(range(100,200,1)),3)]),(2,'python')]\n",
    "print(\"items->{}\".format(items))\n",
    "dic=dict(items)\n",
    "print(\"dic=dict(items)->{}\".format(dic))\n",
    "print(\"dic[1]->{}\".format(dic[1]))\n",
    "\n"
   ]
  },
  {
   "cell_type": "code",
   "execution_count": 9,
   "id": "1aef2b6e-5b9a-4170-903b-e7e2e99855d1",
   "metadata": {},
   "outputs": [
    {
     "name": "stdout",
     "output_type": "stream",
     "text": [
      "len(dic)->3\n",
      "dic[3]=(random.random(),random.uniform(200,300))->{0: [0, 1, 2, 3, 4, 5, 6, 7, 8, 9], 1: [[146, 174, 152]], 2: 'python', 3: (0.16933130354757975, 217.51411957473476)}\n",
      "list(dic.keys())->[0, 1, 2, 3]\n"
     ]
    }
   ],
   "source": [
    "print(\"len(dic)->{}\".format(len(dic)))\n",
    "dic[3]=(random.random(),random.uniform(200,300))\n",
    "print(\"dic[3]=(random.random(),random.uniform(200,300))->{}\".format(dic))\n",
    "\n",
    "print(\"list(dic.keys())->{}\".format(list(dic.keys())))\n"
   ]
  },
  {
   "cell_type": "code",
   "execution_count": 11,
   "id": "03a2df06-b2fc-43f1-b278-94515d52d2fe",
   "metadata": {},
   "outputs": [
    {
     "name": "stdout",
     "output_type": "stream",
     "text": [
      "0 (0, [0, 1, 2, 3, 4, 5, 6, 7, 8, 9])\n",
      "1 (1, [[146, 174, 152]])\n",
      "2 (2, 'python')\n",
      "3 (3, (0.16933130354757975, 217.51411957473476))\n"
     ]
    }
   ],
   "source": [
    "for a,b ,in enumerate(dic.items()): \n",
    "    print(a,b)\n"
   ]
  },
  {
   "cell_type": "code",
   "execution_count": 12,
   "id": "ff9d7d7a-3d45-45b2-8e81-d640c3ebb28b",
   "metadata": {},
   "outputs": [
    {
     "name": "stdout",
     "output_type": "stream",
     "text": [
      "lst_A=[6, 9, 12, 15, 18],lst_B=[100, 115, 130, 145]\n",
      "dic_2={0: [6, 9, 12, 15, 18], 1: [100, 115, 130, 145]}\n",
      "__________________________________________________\n",
      "dic_assignment={0: [6, 9, 12, 15, 18], 1: [100, 115, 130, 145]}\n",
      "dic_2.clear()->{}\n",
      "dic_assignment={}\n",
      "dic_2[5]=list(range(1,9,2))->{5: [1, 3, 5, 7]}\n",
      "dic_copy=dic_2.copy()->{5: [1, 3, 5, 7]}\n",
      "dic_2[8]=[5,7]->{5: [1, 3, 5, 7], 8: [5, 7]}\n",
      "dic_copy={5: [1, 3, 5, 7]}\n",
      "dic_copy[5].remove(5)->{5: [1, 3, 7]}\n",
      "dic_copy.setdefault(6,[77,99])->{5: [1, 3, 7], 6: [77, 99]}\n",
      "dic_2.pop(5)->{8: [5, 7]}\n",
      "dic_update={8: [5, 7, 6, 3, 2], 9: [3, 2, 33, 55, 66]}\n",
      "dic_2.update(dic_update->{8: [5, 7, 6, 3, 2], 9: [3, 2, 33, 55, 66]}\n",
      "dic_2.get(9)->[3, 2, 33, 55, 66]\n",
      "dic_2.popitem()->{8: [5, 7, 6, 3, 2]}\n",
      "dic_3={}.fromkeys([0,1,2,3,4,'A'])->{0: None, 1: None, 2: None, 3: None, 4: None, 'A': None}\n"
     ]
    }
   ],
   "source": [
    "lst_A=list(range(6,20,3))\n",
    "lst_B=list(range(100,150,15))\n",
    "print(\"lst_A={},lst_B={}\".format(lst_A,lst_B))\n",
    "dic_2={0:lst_A,1:lst_B}\n",
    "print(\"dic_2={}\".format(dic_2))\n",
    "print(\"_\"*50)\n",
    "dic_assignment=dic_2\n",
    "print(\"dic_assignment={}\".format(dic_assignment))\n",
    "dic_2.clear()\n",
    "print(\"dic_2.clear()->{}\".format(dic_2))\n",
    "print(\"dic_assignment={}\".format(dic_assignment))\n",
    "dic_2[5]=list(range(1,9,2))\n",
    "print(\"dic_2[5]=list(range(1,9,2))->{}\".format(dic_2))\n",
    "dic_copy=dic_2.copy()\n",
    "print(\"dic_copy=dic_2.copy()->{}\".format(dic_copy))\n",
    "dic_2[8]=[5,7]\n",
    "print(\"dic_2[8]=[5,7]->{}\".format(dic_2))\n",
    "print(\"dic_copy={}\".format(dic_copy))\n",
    "dic_copy[5].remove(5)\n",
    "print(\"dic_copy[5].remove(5)->{}\".format(dic_copy))\n",
    "dic_copy.setdefault(6,[77,99]) \n",
    "print(\"dic_copy.setdefault(6,[77,99])->{}\".format(dic_copy))\n",
    "dic_2.pop(5) \n",
    "print(\"dic_2.pop(5)->{}\".format(dic_2))\n",
    "dic_update={8:[5,7,6,3,2],9:[3,2,33,55,66]}\n",
    "print(\"dic_update={}\".format(dic_update))\n",
    "dic_2.update(dic_update) \n",
    "print(\"dic_2.update(dic_update->{}\".format(dic_2))\n",
    "print(\"dic_2.get(9)->{}\".format(dic_2.get(9)))\n",
    "dic_2.popitem() \n",
    "print(\"dic_2.popitem()->{}\".format(dic_2))\n",
    "dic_3={}.fromkeys([0,1,2,3,4,'A']) \n",
    "print(\"dic_3={}\"+\".fromkeys([0,1,2,3,4,'A'])->{}\".format(dic_3)) "
   ]
  },
  {
   "cell_type": "code",
   "execution_count": 14,
   "id": "8dd74b39-9858-48ab-a31b-132bdd4f08af",
   "metadata": {},
   "outputs": [
    {
     "name": "stdout",
     "output_type": "stream",
     "text": [
      "lst_s_3=list(\"Hello Python!\")->['H', 'e', 'l', 'l', 'o', ' ', 'P', 'y', 't', 'h', 'o', 'n', '!']\n",
      "\"Hellow\"+\" Python!\"->Hellow Python!\n",
      "\"+\".join(str(123456))->1+2+3+4+5+6\n",
      "len(\"Hellow Python!\")->14\n",
      "coordinates.split(\",\")->['34', '108']\n",
      "eval(coordinates)->(34, 108)\n",
      "\"Hello Python!\".lower()->hello python!\n",
      "\"Hello Python!\".upper()->HELLO PYTHON!\n",
      "\"Hello Python!\"[6:]->Python!\n",
      "\"    Hello Python!    \".strip()->Hello Python!\n",
      "\"Hello Python!\".replace(\"Python\",\"Grasshopper\")->Hello Grasshopper!\n",
      "hello_lst.sort()>[' ', '!', 'H', 'P', 'e', 'h', 'l', 'l', 'n', 'o', 'o', 't', 'y']\n",
      "\"Hello Python!\".find(\"Py\")->-1\n"
     ]
    }
   ],
   "source": [
    "lst_s_3=list(\"Hello Python!\")\n",
    "print(\"lst_s_3=list(\\\"Hello Python!\\\")->{}\".format(lst_s_3))\n",
    "print(\"\\\"Hellow\\\"+\\\" Python!\\\"->{}\".format(\"Hellow\"+\" Python!\"))\n",
    "print(\"\\\"+\\\".join(str(123456))->{}\".format(\"+\".join(str(123456))))\n",
    "print(\"len(\\\"Hellow Python!\\\")->{}\".format(len(\"Hellow Python!\")))\n",
    "coordinates=\"34,108\"\n",
    "print(\"coordinates.split(\\\",\\\")->{}\".format(coordinates.split(\",\")))\n",
    "print(\"eval(coordinates)->{}\".format(eval(coordinates))) \n",
    "print(\"\\\"Hello Python!\\\".lower()->{}\".format(\"Hello Python!\".lower()))\n",
    "print(\"\\\"Hello Python!\\\".upper()->{}\".format(\"Hello Python!\".upper()))\n",
    "print(\"\\\"Hello Python!\\\"[6:]->{}\".format(\"Hello Python!\"[6:]))\n",
    "print(\"\\\"    Hello Python!    \\\".strip()->{}\".format(\"    Hello Python!    \".strip()))\n",
    "print(\"\\\"Hello Python!\\\".replace(\\\"Python\\\",\\\"Grasshopper\\\")->{}\".format(\"Hello Python!\".replace(\"Python\",\"Grasshopper\")))\n",
    "hello_lst=list(\"Hello Python!\")\n",
    "hello_lst.sort()\n",
    "print(\"hello_lst.sort()>{}\".format(hello_lst))\n",
    "print(\"\\\"Hello Python!\\\".find(\\\"Py\\\")->{}\".format(\"Hello Python!\".find(\"aaaaaaaaaaaa\")))"
   ]
  },
  {
   "cell_type": "code",
   "execution_count": 15,
   "id": "bf48b078-7406-4d17-bd34-cf357e572104",
   "metadata": {},
   "outputs": [
    {
     "name": "stdout",
     "output_type": "stream",
     "text": [
      "new_str=format_str % values->Hello,Python and Grasshopper!\n"
     ]
    }
   ],
   "source": [
    "format_str=\"Hello,%s and %s!\"\n",
    "values=(\"Python\",\"Grasshopper\")\n",
    "new_str=format_str % values\n",
    "print(\"new_str=format_str % values->{}\".format(new_str))\n"
   ]
  },
  {
   "cell_type": "code",
   "execution_count": 17,
   "id": "ea168424-7075-46e6-9e7f-51a72a16f3b3",
   "metadata": {},
   "outputs": [
    {
     "name": "stdout",
     "output_type": "stream",
     "text": [
      "  3.000000,      3.00,3.00,Hello,Hello,52,34,3.000000\n"
     ]
    }
   ],
   "source": [
    "pi=a\n",
    "format_str_3=\"%10f,%10.2f,%.2f,%.5s,%.*s,%d,%x,%f\"\n",
    "new_str_3=format_str_3%(pi,pi,pi,\"Hello Python!\",5,\"Hello Python!\",52,52,pi)\n",
    "print(\"{}\".format(new_str_3))"
   ]
  },
  {
   "cell_type": "code",
   "execution_count": 19,
   "id": "4ba074d4-8079-44c1-a25d-b909c2cf4dd9",
   "metadata": {},
   "outputs": [
    {
     "name": "stdout",
     "output_type": "stream",
     "text": [
      "Python,glorious,Python!\n"
     ]
    }
   ],
   "source": [
    "from string import Template\n",
    "s_template_1=Template(\"$x,glorious,$x!\")\n",
    "s_1=s_template_1.substitute(x=\"Python\")\n",
    "print(s_1)"
   ]
  },
  {
   "cell_type": "code",
   "execution_count": 22,
   "id": "1c863417-c654-4638-9eb8-1a144868b072",
   "metadata": {},
   "outputs": [
    {
     "name": "stdout",
     "output_type": "stream",
     "text": [
      "py,yeah,py!\n"
     ]
    }
   ],
   "source": [
    "from string import Template\n",
    "s_template_2=Template(\"$x,yeah,$x!\")\n",
    "s_2=s_template_2.substitute(x=\"py\")\n",
    "print(s_2)"
   ]
  },
  {
   "cell_type": "code",
   "execution_count": 25,
   "id": "44802c6a-7487-4436-898c-070251aad7f4",
   "metadata": {},
   "outputs": [
    {
     "name": "stdout",
     "output_type": "stream",
     "text": [
      "[]\n",
      "[]\n"
     ]
    }
   ],
   "source": [
    "import re\n",
    "pattern_1='Python'\n",
    "text=\"I cannot understand!\"\n",
    "print(re.findall(pattern_1,text))\n",
    "pattern_2='python'\n",
    "print(re.findall(pattern_2,text))"
   ]
  },
  {
   "cell_type": "code",
   "execution_count": 27,
   "id": "7757fe2b-134c-4463-a132-3612f01f9d32",
   "metadata": {},
   "outputs": [
    {
     "name": "stdout",
     "output_type": "stream",
     "text": [
      "re.findall('.ython','Hello Python!')->['Python']\n",
      "re.findall('.ython','Hello gython!')->['gython']\n",
      "re.findall('.ython','Hello gPython!')->['Python']\n",
      "re.findall('.ython','Hello Pthon!')->[]\n"
     ]
    }
   ],
   "source": [
    "print(\"re.findall('.ython','Hello Python!')->{}\".format(re.findall('.ython','Hello Python!')))\n",
    "print(\"re.findall('.ython','Hello gython!')->{}\".format(re.findall('.ython','Hello gython!')))\n",
    "print(\"re.findall('.ython','Hello gPython!')->{}\".format(re.findall('.ython','Hello gPython!')))\n",
    "print(\"re.findall('.ython','Hello Pthon!')->{}\".format(re.findall('.ython','Hello Pthon!')))"
   ]
  },
  {
   "cell_type": "code",
   "execution_count": 28,
   "id": "1fd55342-d995-488f-9519-6674358319c7",
   "metadata": {},
   "outputs": [
    {
     "name": "stdout",
     "output_type": "stream",
     "text": [
      "re.findall(r'w?cadesign\\.cn,w+\\.cadesign\\.cn','cadesign.cn,www.cadesign.cn')->['cadesign.cn,www.cadesign.cn']\n",
      "re.findall(r'w{2}\\.cadesign\\.cn','www.cadesign.cn')->['ww.cadesign.cn']\n",
      "re.findall(r'w{1,3}\\.cadesign\\.cn','www.cadesign.cn')->['www.cadesign.cn']\n"
     ]
    }
   ],
   "source": [
    "print(\"re.findall(r'w?cadesign\\.cn,w+\\.cadesign\\.cn','cadesign.cn,www.cadesign.cn')->{}\".format(re.findall(r'w?cadesign\\.cn,w+\\.cadesign\\.cn','cadesign.cn,www.cadesign.cn')))\n",
    "print(\"re.findall(r'w{2}\"+\"\\.cadesign\\.cn','www.cadesign.cn')->{}\".format(re.findall(r'w{2}\\.cadesign\\.cn','www.cadesign.cn')))\n",
    "print(\"re.findall(r'w{1,3}\"+\"\\.cadesign\\.cn','www.cadesign.cn')->{}\".format(re.findall(r'w{1,3}\\.cadesign\\.cn','www.cadesign.cn')))"
   ]
  },
  {
   "cell_type": "code",
   "execution_count": 29,
   "id": "9d582207-7148-408c-9f14-d73ae18e8af5",
   "metadata": {},
   "outputs": [
    {
     "name": "stdout",
     "output_type": "stream",
     "text": [
      "['python']\n",
      "['grasshopper']\n",
      "['grasshopper', 'python']\n"
     ]
    }
   ],
   "source": [
    "print(format(re.findall('python|grasshopper','python')))\n",
    "print(format(re.findall('python|grasshopper','grasshopper')))\n",
    "print(re.findall('python|grasshopper','grasshopper and python'))"
   ]
  },
  {
   "cell_type": "code",
   "execution_count": 30,
   "id": "91a1e877-42b5-498c-8321-3cf670370fa4",
   "metadata": {},
   "outputs": [
    {
     "name": "stdout",
     "output_type": "stream",
     "text": [
      "['1', '0']\n",
      "['n', 'u', 'm', 'b', 'e', 'r', '=']\n",
      "['n', 'u', 'm', 'b', 'e', 'r', '=']\n"
     ]
    }
   ],
   "source": [
    "print(re.findall('\\d','number=10'))\n",
    "print((re.findall('\\D','number=10')))\n",
    "print(re.findall('[^0-9]','number=10'))"
   ]
  },
  {
   "cell_type": "code",
   "execution_count": 31,
   "id": "adc61d76-7b6e-4cba-bd8b-50cc4c4ce8a5",
   "metadata": {},
   "outputs": [
    {
     "name": "stdout",
     "output_type": "stream",
     "text": [
      "re.findall('[a-z]','python')->['p', 'y', 't', 'h', 'o', 'n']\n",
      "re.search('[a-z]+','python')-><re.Match object; span=(0, 6), match='python'>\n",
      "re.search('[a-z]+','python')->found it!\n",
      "re.split(',','Hello,,,,,,Python!')->['Hello', '', '', '', '', '', 'Python!']\n",
      "re.sub('Python','Grasshopper','Hello Python!')->Hello Grasshopper!\n"
     ]
    }
   ],
   "source": [
    "print(\"re.findall('[a-z]','python')->{}\".format(re.findall('[a-z]','python-3.0')))\n",
    "print(\"re.search('[a-z]+','python')->{}\".format(re.search('[a-z]+','python')))\n",
    "if re.search('[a-z]+','python'):\n",
    "    print(\"re.search('[a-z]+','python')->found it!\")\n",
    "print(\"re.split(',','Hello,,,,,,Python!')->{}\".format(re.split(',','Hello,,,,,,Python!')))\n",
    "print(\"re.sub('Python','Grasshopper','Hello Python!')->{}\".format(re.sub('Python','Grasshopper','Hello Python!')))"
   ]
  },
  {
   "cell_type": "code",
   "execution_count": 32,
   "id": "b6d0efb4-a9b7-4235-9f9f-7e0d3d304bb3",
   "metadata": {},
   "outputs": [
    {
     "name": "stdout",
     "output_type": "stream",
     "text": [
      "'python'.find('python')->0\n",
      "'python'.find('thon')->2\n",
      "'python'.find('a')->-1\n",
      "'p' in 'python'->True\n"
     ]
    }
   ],
   "source": [
    "print(\"\\'python\\'.find(\\'python\\')->{}\".format('python'.find('python')))\n",
    "print(\"\\'python\\'.find(\\'thon\\')->{}\".format('python'.find('thon')))\n",
    "print(\"\\'python\\'.find(\\'a\\')->{}\".format('python'.find('a')))\n",
    "print(\"\\'p\\' in \\'python\\'->{}\".format('p' in 'python'))"
   ]
  },
  {
   "cell_type": "code",
   "execution_count": 33,
   "id": "84719724-87ed-4c8c-aa22-c4e1c5667b97",
   "metadata": {},
   "outputs": [
    {
     "name": "stdout",
     "output_type": "stream",
     "text": [
      "['Hello', '', '', '', '', '', 'Python!']\n",
      "Hello Grasshopper!\n"
     ]
    }
   ],
   "source": [
    "print( 'Hello,,,,,,Python!'.split(','))\n",
    "print('Hello Python!'.replace('Python','Grasshopper'))"
   ]
  },
  {
   "cell_type": "code",
   "execution_count": 36,
   "id": "9636eaec-3a9d-400d-b45b-8e006bc3f6b0",
   "metadata": {},
   "outputs": [
    {
     "name": "stdout",
     "output_type": "stream",
     "text": [
      "match_1.gourp(1)->python\n",
      "match_1.start(1)->4\n",
      "match_1.end(1)->10\n",
      "match_1.span(1)->(4, 10)\n",
      "match_2.group(1)->python\n",
      "match_2.group(2)->org\n"
     ]
    }
   ],
   "source": [
    "match_1=re.match(r'www\\.(.*)\\..{3}','www.python.org')\n",
    "print(\"match_1.gourp(1)->{}\".format(match_1.group(1)))\n",
    "print(\"match_1.start(1)->{}\".format(match_1.start(1)))\n",
    "print(\"match_1.end(1)->{}\".format(match_1.end(1)))\n",
    "print(\"match_1.span(1)->{}\".format(match_1.span(1)))\n",
    "match_2=re.match(r'www\\.(.*)\\.(.{3})','www.python.org')\n",
    "print(\"match_2.group(1)->{}\".format(match_2.group(1)))\n",
    "print(\"match_2.group(2)->{}\".format(match_2.group(2))) #真不会了#"
   ]
  },
  {
   "cell_type": "code",
   "execution_count": 40,
   "id": "8b242e02-8626-4b64-8f01-77944b212c8d",
   "metadata": {},
   "outputs": [
    {
     "name": "stdout",
     "output_type": "stream",
     "text": [
      "lst_1=[7, 34, 61]\n",
      "for i in lst_1:\n",
      "7\n",
      "34\n",
      "61\n",
      "for i in range(len(lst_1)):\n",
      "idx=0,val=7\n",
      "idx=1,val=34\n",
      "idx=2,val=61\n",
      "dic_4={'a': 1, 'b': 1, 'c': 1, 'd': 1}\n",
      "for k in dic_4:\n",
      "a\n",
      "b\n",
      "c\n",
      "d\n",
      "for k,v in dic_4.items():\n",
      "key=a,val=1\n",
      "key=b,val=1\n",
      "key=c,val=1\n",
      "key=d,val=1\n"
     ]
    }
   ],
   "source": [
    "lst_1=list(range(7,77,27))\n",
    "print(\"lst_1={}\".format(lst_1))\n",
    "print(\"for i in lst_1:\")\n",
    "for i in lst_1:\n",
    "    print(i)\n",
    "print(\"for i in range(len(lst_1)):\")\n",
    "for i in range(len(lst_1)):\n",
    "    print(\"idx={},val={}\".format(i,lst_1[i])) \n",
    "dic_4=dict(a=1,b=1,c=1,d=1)\n",
    "print(\"dic_4={}\".format(dic_4))\n",
    "print(\"for k in dic_4:\")\n",
    "for k in dic_4:\n",
    "    print(k)\n",
    "print(\"for k,v in dic_4.items():\")\n",
    "for k,v in dic_4.items():\n",
    "    print(\"key={},val={}\".format(k,v))"
   ]
  },
  {
   "cell_type": "code",
   "execution_count": 41,
   "id": "0f2ceae5-83b4-419f-9d67-92abdd4bd65f",
   "metadata": {},
   "outputs": [
    {
     "name": "stdout",
     "output_type": "stream",
     "text": [
      "x=2\n",
      "x=19\n",
      "x=36\n",
      "x=53\n",
      "x=70\n",
      "x=87\n",
      "x=104\n",
      "x=121\n",
      "x=138\n",
      "x=155\n",
      "x=172\n",
      "x=189\n",
      "x=206\n",
      "x=223\n",
      "x=240\n",
      "x=257\n",
      "x=274\n",
      "x=291\n",
      "x=308\n",
      "x=325\n",
      "x=342\n",
      "x=359\n",
      "x=376\n",
      "x=393\n",
      "x=410\n",
      "x=427\n",
      "x=444\n",
      "x=461\n",
      "x=478\n",
      "x=495\n",
      "x=512\n",
      "x=529\n",
      "x=546\n",
      "x=563\n",
      "x=580\n",
      "x=597\n",
      "x=614\n",
      "x=631\n",
      "x=648\n",
      "x=665\n",
      "x=682\n",
      "x=699\n"
     ]
    }
   ],
   "source": [
    "x=2\n",
    "while x<=700:\n",
    "    print(\"x={}\".format(x))\n",
    "    x+=17 #增量赋值; x*=2     "
   ]
  },
  {
   "cell_type": "code",
   "execution_count": 42,
   "id": "c462b68d-b2e0-4614-872d-4a08db688743",
   "metadata": {},
   "outputs": [
    {
     "name": "stdout",
     "output_type": "stream",
     "text": [
      "x=1\n",
      "x=3\n",
      "x=5\n",
      "x=7\n",
      "x=9\n",
      "x=11\n",
      "x=13\n",
      "x=15\n",
      "x=17\n",
      "x=19\n",
      "x=21\n",
      "x=23\n",
      "x=25\n",
      "x=27\n",
      "x=29\n",
      "x=31\n",
      "x=33\n",
      "x=35\n",
      "x=37\n",
      "x=39\n",
      "x=41\n",
      "x=43\n",
      "x=45\n",
      "x=47\n",
      "x=49\n",
      "sys.maxsize=9223372036854775807\n",
      "i=0\n",
      "i=1\n",
      "i=2\n",
      "i=3\n",
      "i=4\n",
      "i=5\n",
      "i=6\n",
      "i=7\n",
      "i=8\n",
      "i=9\n",
      "i=10\n",
      "i=11\n",
      "i=12\n",
      "i=13\n",
      "i=14\n",
      "i=15\n",
      "i=16\n",
      "i=17\n",
      "i=18\n",
      "i=19\n",
      "i=20\n"
     ]
    }
   ],
   "source": [
    "x=1\n",
    "while x<=700:\n",
    "    print(\"x={}\".format(x))\n",
    "    x+=2\n",
    "    if x>=50:break    \n",
    "    \n",
    "import sys\n",
    "print(\"sys.maxsize={}\".format(sys.maxsize))\n",
    "for i in range(sys.maxsize):\n",
    "    print(\"i={}\".format(i))  #?\n",
    "    i+=10\n",
    "    if i>=30:break"
   ]
  },
  {
   "cell_type": "code",
   "execution_count": 52,
   "id": "0aa8ed8a-5fc1-445d-8f3c-2791fcba1d7d",
   "metadata": {},
   "outputs": [
    {
     "name": "stdout",
     "output_type": "stream",
     "text": [
      "zip_lst=zip(lst_a,lst_b)-><zip object at 0x000001EA52D59380>\n",
      "dict(zip_lst)->{0: 'point_a', 1: 'point_b', 2: 'point_c', 3: 'point_d'}\n",
      "0 point_a\n",
      "1 point_b\n",
      "2 point_c\n",
      "3 point_d\n",
      "a=(0, 1, 2, 3),b=('point_a', 'point_b', 'point_c', 'point_d')\n"
     ]
    }
   ],
   "source": [
    "lst_a=[0,1,2,3]\n",
    "lst_b=['point_a','point_b','point_c','point_d']\n",
    "zip_lst=zip(lst_a,lst_b) #The zip() function takes iterables (can be zero or more), aggregates them in a tuple, and returns it.\n",
    "print(\"zip_lst=zip(lst_a,lst_b)->{}\".format(zip_lst))\n",
    "print(\"dict(zip_lst)->{}\".format(dict(zip_lst)))\n",
    "\n",
    "zip_lst=zip(lst_a,lst_b) #迭代对象临时存储，读取完后为空\n",
    "for a,b in zip_lst:\n",
    "    print(a,b)\n",
    "    \n",
    "zip_lst=zip(lst_a,lst_b)\n",
    "a,b=zip(*zip_lst)\n",
    "print(\"a={},b={}\".format(a,b))\n"
   ]
  },
  {
   "cell_type": "code",
   "execution_count": 54,
   "id": "1b8e5570-4905-40b1-9d0d-727f1334e5e1",
   "metadata": {},
   "outputs": [
    {
     "name": "stdout",
     "output_type": "stream",
     "text": [
      "dic_4={0: 'point_a', 1: 'point_b', 2: 'point_c', 3: 'point_d'}\n",
      "dict((i,v) for i,v in enumerate(lst_c))->{0: 'point_a', 1: 'point_b', 2: 'point_c', 3: 'point_d'}\n",
      "0:0,point_a\n",
      "1:1,point_b\n",
      "2:2,point_c\n",
      "3:3,point_d\n"
     ]
    }
   ],
   "source": [
    "lst_c=['point_a','point_b','point_c','point_d']\n",
    "dic_4={}\n",
    "for idx,value in enumerate(lst_c):\n",
    "    dic_4[idx]=value\n",
    "print(\"dic_4={}\".format(dic_4))\n",
    "print(\"dict((i,v) for i,v in enumerate(lst_c))->{}\".format(dict((i,v) for i,v in enumerate(lst_c)))) #list comprehension\n",
    "for i,(a,b) in enumerate(zip(lst_a,lst_b)):\n",
    "    print('%d:%s,%s'%(i,a,b))"
   ]
  },
  {
   "cell_type": "code",
   "execution_count": 55,
   "id": "792b8200-0818-4446-8ac0-984779041cd3",
   "metadata": {},
   "outputs": [
    {
     "name": "stdout",
     "output_type": "stream",
     "text": [
      "[x*x for x in range(3,37,5) if x%2==0]->[64, 324, 784]\n",
      "[(x,y) for x in range(3)for y in range(2)]->[(0, 0), (0, 1), (1, 0), (1, 1), (2, 0), (2, 1)]\n",
      "[(x,y) for x,y in zip(range(3),range(2))]->[(0, 0), (1, 1)]\n",
      "[[a for a in range(1,10,3)],2,3,[b for b in range(60,100,7)],[[c for c in range(1000,2000,120)],3,9]]->[[1, 4, 7], 2, 3, [60, 67, 74, 81, 88, 95], [[1000, 1120, 1240, 1360, 1480, 1600, 1720, 1840, 1960], 3, 9]]\n",
      "flatten_lst(nested_list)->[1, 4, 7, 2, 3, 60, 67, 74, 81, 88, 95, 1000, 1120, 1240, 1360, 1480, 1600, 1720, 1840, 1960, 3, 9]\n"
     ]
    }
   ],
   "source": [
    "print(\"[x*x for x in range(3,37,5) if x%2==0]->{}\".format([x*x for x in range(3,37,5) if x%2==0]))\n",
    "print(\"[(x,y) for x in range(3)for y in range(2)]->{}\".format([(x,y) for x in range(3)for y in range(2)]))\n",
    "print(\"[(x,y) for x,y in zip(range(3),range(2))]->{}\".format([(x,y) for x,y in zip(range(3),range(2))]))\n",
    "nested_list=[[a for a in range(1,10,3)],2,3,[b for b in range(60,100,7)],[[c for c in range(1000,2000,120)],3,9]]\n",
    "print(\"[[a for a in range(1,10,3)],2,3,[b for b in range(60,100,7)],[[c for c in range(1000,2000,120)],3,9]]->{}\".format(nested_list)) #嵌套列表推导式\n",
    "flatten_lst=lambda lst: [m for n_lst in lst for m in flatten_lst(n_lst)] if type(lst) is list else [lst] #展平列表常用，可以放置到单独的.py文件中调用。lambda函数后文阐述\n",
    "print(\"flatten_lst(nested_list)->{}\".format(flatten_lst(nested_list)))"
   ]
  },
  {
   "cell_type": "code",
   "execution_count": 59,
   "id": "d9a49390-a6b9-4d8d-bfe6-d203b6eb17c4",
   "metadata": {},
   "outputs": [
    {
     "name": "stdout",
     "output_type": "stream",
     "text": [
      "Positive but smaller than 10\n"
     ]
    }
   ],
   "source": [
    "x=5\n",
    "if x<0:\n",
    "    print('It is negative.')\n",
    "elif x==0:\n",
    "    print('Equal to zero.')\n",
    "elif 0<x<10:\n",
    "    print('Positive but smaller than 10')\n",
    "else:\n",
    "    print('Positive and larger than or equal to 10.')"
   ]
  },
  {
   "cell_type": "code",
   "execution_count": 60,
   "id": "6752d50c-8f7a-4c84-8644-3a66f5155467",
   "metadata": {},
   "outputs": [
    {
     "name": "stdout",
     "output_type": "stream",
     "text": [
      "x==y->True\n",
      "x is y->True\n",
      "x==z->True\n",
      "x is z->False\n",
      "x is not y->False\n",
      "x is not z->True\n",
      "id_x:2105958732544;id_y:2105958732544;id_z:2105958732352\n",
      "x=[7, 7],y=[7, 7],z=[7, 7, 7] after del x[2]\n"
     ]
    }
   ],
   "source": [
    "x=y=[7,7,7]\n",
    "z=[7,7,7]\n",
    "print(\"x==y->{}\".format(x==y))\n",
    "print(\"x is y->{}\".format(x is y))\n",
    "print(\"x==z->{}\".format(x==z))\n",
    "print(\"x is z->{}\".format(x is z))\n",
    "print(\"x is not y->{}\".format(x is not y))\n",
    "print(\"x is not z->{}\".format(x is not z))\n",
    "print(\"id_x:{};id_y:{};id_z:{}\".format(id(x),id(y),id(z))) #Memory Location\n",
    "del x[2]\n",
    "print(\"x={},y={},z={} after del x[2]\".format(x,y,z))"
   ]
  },
  {
   "cell_type": "code",
   "execution_count": 62,
   "id": "ae5aa2cc-083a-4257-b4ad-ad56874a48a1",
   "metadata": {},
   "outputs": [
    {
     "name": "stdout",
     "output_type": "stream",
     "text": [
      "3 in x->False\n",
      "0 in x->False\n",
      "3 not in x->True\n",
      "0 not in x->True\n"
     ]
    }
   ],
   "source": [
    "x=[7,7,79]\n",
    "print(\"3 in x->{}\".format(3 in x))\n",
    "print(\"0 in x->{}\".format(0 in x))\n",
    "print(\"3 not in x->{}\".format(3 not in x))\n",
    "print(\"0 not in x->{}\".format(0 not in x))"
   ]
  },
  {
   "cell_type": "code",
   "execution_count": 63,
   "id": "5736d67d-dea3-42f9-a105-2c430d3852a4",
   "metadata": {},
   "outputs": [
    {
     "name": "stdout",
     "output_type": "stream",
     "text": [
      "a<c<b yeah!\n"
     ]
    }
   ],
   "source": [
    "a,b,c=0,10,15\n",
    "if c>a and c<b:\n",
    "    print('a<c<b')\n",
    "else: print('a<c<b yeah!')"
   ]
  },
  {
   "cell_type": "code",
   "execution_count": 68,
   "id": "48882da6-7514-441e-b2a7-7160b2232e5b",
   "metadata": {},
   "outputs": [
    {
     "name": "stdout",
     "output_type": "stream",
     "text": [
      "fibonacci(3,6)->[3, 5, 8, 13, 21, 34]\n",
      "fibonacci(5,9)->[5, 8, 13, 21, 34, 55, 89, 144, 233]\n"
     ]
    }
   ],
   "source": [
    "def fibonacci(s,count): #定义fib函数的方法较笨\n",
    "    fib_lst=[0,1]\n",
    "    fib_part=[]\n",
    "    if s==0 or s==1:\n",
    "        fib_part[:]=fib_lst\n",
    "        for i in range(count-2):\n",
    "            fib_part.append(fib_part[-1]+fib_part[-2])\n",
    "    else:\n",
    "        while True:\n",
    "            fib_lst[:]=[fib_lst[1],fib_lst[0]+fib_lst[1]]\n",
    "            #print(fib_lst)\n",
    "            if fib_lst[1]-s>=0:break\n",
    "        fib_part[:]=fib_lst\n",
    "        if abs(fib_lst[0]-s)>=abs(fib_lst[1]-s):\n",
    "            for i in range(count-1):\n",
    "                fib_part.append(fib_part[-1]+fib_part[-2])\n",
    "            fib_part.pop(0)\n",
    "        else:\n",
    "            for i in range(count-2):\n",
    "                fib_part.append(fib_part[-1]+fib_part[-2])\n",
    "    return fib_part\n",
    "\n",
    "print(\"fibonacci(3,6)->{}\".format(fibonacci(3,6)))\n",
    "print(\"fibonacci(5,9)->{}\".format(fibonacci(5,9)))\n"
   ]
  },
  {
   "cell_type": "code",
   "execution_count": 69,
   "id": "c422116b-8b8a-4f76-a2cb-5ba69daeadf3",
   "metadata": {},
   "outputs": [
    {
     "name": "stdout",
     "output_type": "stream",
     "text": [
      "0\n"
     ]
    }
   ],
   "source": [
    "def factorial(n):\n",
    "    if n==2:\n",
    "        return 0\n",
    "    else:\n",
    "        return n*factorial(n-1)\n",
    "print(factorial(9))"
   ]
  },
  {
   "cell_type": "code",
   "execution_count": 72,
   "id": "24d143a7-a111-4312-a18e-4bf65040a3c8",
   "metadata": {},
   "outputs": [
    {
     "name": "stdout",
     "output_type": "stream",
     "text": [
      "swift.fly->Whirring\n",
      "swift.eat()->\n",
      "Aaaah...\n",
      "swift.eat()->\n",
      "No.Thanks!\n",
      "swift.sing()->\n",
      "Squawk!\n"
     ]
    }
   ],
   "source": [
    "swift=Apodidae()\n",
    "print(\"swift.fly->{}\".format(swift.fly))\n",
    "print(\"swift.eat()->\")\n",
    "swift.eat()\n",
    "print(\"swift.eat()->\")\n",
    "swift.eat()\n",
    "print(\"swift.sing()->\")\n",
    "swift.sing()"
   ]
  },
  {
   "cell_type": "code",
   "execution_count": 73,
   "id": "d7395b44-01cb-475b-b314-6254dfe1b1aa",
   "metadata": {},
   "outputs": [
    {
     "name": "stdout",
     "output_type": "stream",
     "text": [
      "blackswift.sing()->\n",
      "Squawk!\n",
      "scarceswift.sing()->\n",
      "Squawk!\n"
     ]
    }
   ],
   "source": [
    "blackswift=Apodidae()\n",
    "scarceswift=Apodidae()\n",
    "print(\"blackswift.sing()->\")\n",
    "blackswift.sing()\n",
    "print(\"scarceswift.sing()->\")\n",
    "scarceswift.sing()"
   ]
  },
  {
   "cell_type": "code",
   "execution_count": 74,
   "id": "011cca3d-6a7c-4cda-899f-e995a9780e5f",
   "metadata": {},
   "outputs": [
    {
     "name": "stdout",
     "output_type": "stream",
     "text": [
      "blackswift.fly->Whirring\n",
      "blackswift.fly after redefining the blackswif's attribute->humming\n",
      "scarceswift.fly->Whirring\n"
     ]
    }
   ],
   "source": [
    "print(\"blackswift.fly->{}\".format(blackswift.fly))\n",
    "blackswift.fly='humming' #重新赋予实例的属性\n",
    "print(\"blackswift.fly after redefining the blackswif's attribute->{}\".format(blackswift.fly))\n",
    "print(\"scarceswift.fly->{}\".format(scarceswift.fly))"
   ]
  },
  {
   "cell_type": "code",
   "execution_count": 75,
   "id": "7a3fde6b-feb2-48e5-a3ca-ae7c0692e2ba",
   "metadata": {},
   "outputs": [
    {
     "name": "stdout",
     "output_type": "stream",
     "text": [
      "Squawk!\n"
     ]
    }
   ],
   "source": [
    "blackswift.sing()"
   ]
  },
  {
   "cell_type": "code",
   "execution_count": 77,
   "id": "f6da9d32-8fc4-4a78-8aa6-e8fc4705f802",
   "metadata": {},
   "outputs": [
    {
     "name": "stdout",
     "output_type": "stream",
     "text": [
      "Help on class Bird in module __main__:\n",
      "\n",
      "class Bird(builtins.object)\n",
      " |  Methods defined here:\n",
      " |  \n",
      " |  __init__(self)\n",
      " |      Initialize self.  See help(type(self)) for accurate signature.\n",
      " |  \n",
      " |  eat(self)\n",
      " |  \n",
      " |  ----------------------------------------------------------------------\n",
      " |  Data descriptors defined here:\n",
      " |  \n",
      " |  __dict__\n",
      " |      dictionary for instance variables (if defined)\n",
      " |  \n",
      " |  __weakref__\n",
      " |      list of weak references to the object (if defined)\n",
      " |  \n",
      " |  ----------------------------------------------------------------------\n",
      " |  Data and other attributes defined here:\n",
      " |  \n",
      " |  fly = 'Whirring'\n",
      "\n"
     ]
    }
   ],
   "source": [
    "help(Bird)"
   ]
  },
  {
   "cell_type": "code",
   "execution_count": 78,
   "id": "f6448ff8-db90-4796-ac77-df4313b7ca76",
   "metadata": {},
   "outputs": [
    {
     "name": "stdout",
     "output_type": "stream",
     "text": [
      "Help on class Apodidae in module __main__:\n",
      "\n",
      "class Apodidae(Bird)\n",
      " |  Method resolution order:\n",
      " |      Apodidae\n",
      " |      Bird\n",
      " |      builtins.object\n",
      " |  \n",
      " |  Methods defined here:\n",
      " |  \n",
      " |  __init__(self)\n",
      " |      Initialize self.  See help(type(self)) for accurate signature.\n",
      " |  \n",
      " |  sing(self)\n",
      " |  \n",
      " |  ----------------------------------------------------------------------\n",
      " |  Methods inherited from Bird:\n",
      " |  \n",
      " |  eat(self)\n",
      " |  \n",
      " |  ----------------------------------------------------------------------\n",
      " |  Data descriptors inherited from Bird:\n",
      " |  \n",
      " |  __dict__\n",
      " |      dictionary for instance variables (if defined)\n",
      " |  \n",
      " |  __weakref__\n",
      " |      list of weak references to the object (if defined)\n",
      " |  \n",
      " |  ----------------------------------------------------------------------\n",
      " |  Data and other attributes inherited from Bird:\n",
      " |  \n",
      " |  fly = 'Whirring'\n",
      "\n"
     ]
    }
   ],
   "source": [
    "help(Apodidae)"
   ]
  },
  {
   "cell_type": "code",
   "execution_count": 82,
   "id": "94c9d208-bd1d-41a3-bf55-6052ff0f9570",
   "metadata": {},
   "outputs": [
    {
     "name": "stdout",
     "output_type": "stream",
     "text": [
      "[6, 15, 21, 36, 57, 93, 150, 243]\n",
      "[393, 636, 1029, 1665, 2694, 4359]\n"
     ]
    }
   ],
   "source": [
    "f=Fibs()\n",
    "fa=[]\n",
    "fb=[]\n",
    "for i in range(8):\n",
    "    fa.append(f.next())\n",
    "print(fa)\n",
    "for i in range(6):\n",
    "    fb.append(f.next())\n",
    "print(fb)\n"
   ]
  },
  {
   "cell_type": "code",
   "execution_count": 88,
   "id": "f8b356bb-7704-4d11-9535-638c33cc92ee",
   "metadata": {},
   "outputs": [
    {
     "name": "stdout",
     "output_type": "stream",
     "text": [
      "lst_d=[3, 5, 7, 9, 11, 13, 15, 17, 19]\n"
     ]
    }
   ],
   "source": [
    "lst_d=list(range(3,20,2))\n",
    "print(\"lst_d={}\".format(lst_d))"
   ]
  },
  {
   "cell_type": "code",
   "execution_count": 92,
   "id": "c4e95a15-9da3-4676-ad2b-1faeec41cd7c",
   "metadata": {},
   "outputs": [
    {
     "name": "stdout",
     "output_type": "stream",
     "text": [
      "fa=[6, 15, 21, 36, 57, 93, 150, 243, 393, 636, 1029, 1665]\n",
      "fb=[2694, 4359, 7053, 11412, 18465]\n"
     ]
    }
   ],
   "source": [
    "f=Fibs()\n",
    "fa=[]\n",
    "fb=[]\n",
    "for i in range(12):\n",
    "    fa.append(f.next())\n",
    "print(\"fa={}\".format(fa))\n",
    "for i in range(5):\n",
    "    fb.append(f.next())\n",
    "print(\"fb={}\".format(fb))"
   ]
  },
  {
   "cell_type": "code",
   "execution_count": 95,
   "id": "a00cb5cc-acc2-44c4-8b83-7138411cd965",
   "metadata": {},
   "outputs": [
    {
     "name": "stdout",
     "output_type": "stream",
     "text": [
      "lst_e=[[3, 6, 9, 12, 15, 18], [2, 8, 77, [0, 1, 2, 3, 4, 5], 89]]\n",
      "__________________________________________________\n",
      "flatten_lst=[3, 6, 9, 12, 15, 18, 2, 8, 77, 0, 1, 2, 3, 4, 5, 89]\n"
     ]
    }
   ],
   "source": [
    "lst_e=[list(range(3,20,3)),[2,8,77,list(range(6)),89]]\n",
    "print(\"lst_e={}\".format(lst_e))\n",
    "print(\"_\"*50)\n",
    "flatten_lst=[]\n",
    "for v_1 in lst_e:\n",
    "    try:\n",
    "        for v_2 in v_1:\n",
    "            try:\n",
    "                for v_3 in v_2:\n",
    "                    flatten_lst.append(v_3)\n",
    "            except TypeError:\n",
    "                flatten_lst.append(v_2)\n",
    "    except TypeError:\n",
    "        flatten_lst.append(v_1)\n",
    "print(\"flatten_lst={}\".format(flatten_lst))"
   ]
  },
  {
   "cell_type": "code",
   "execution_count": 102,
   "id": "a52672c1-9a84-49e9-8126-6635cb8edd9a",
   "metadata": {},
   "outputs": [
    {
     "name": "stdout",
     "output_type": "stream",
     "text": [
      "next(n)->num#0\n",
      "next(n)->num#1\n",
      "next(n)->num#2\n",
      "[next(n) for i in range(5)]->['num#3', 'num#4', 'num#5', 'num#6', 'num#7']\n"
     ]
    }
   ],
   "source": [
    "def infinite():\n",
    "    n=0\n",
    "    while True:\n",
    "        yield 'num#'+str(n)\n",
    "        n+=1\n",
    "\n",
    "n=infinite()\n",
    "print(\"next(n)->{}\".format(next(n)))\n",
    "print(\"next(n)->{}\".format(next(n)))\n",
    "print(\"next(n)->{}\".format(next(n)))\n",
    "print(\"[next(n) for i in range(5)]->{}\".format([next(n) for i in range(5)]))"
   ]
  },
  {
   "cell_type": "code",
   "execution_count": 104,
   "id": "7cf5d04f-e166-4d15-a913-56d21912a9ea",
   "metadata": {},
   "outputs": [
    {
     "name": "stdout",
     "output_type": "stream",
     "text": [
      "[[(-6.0, -6.0), (-4.0, -6.0), (-2.0, -6.0), (0.0, -6.0), (1.9999999999999996, -6.0), (4.0, -6.0), (6.0, -6.0)], [(-6.0, -4.0), (-4.0, -4.0), (-2.0, -4.0), (0.0, -4.0), (1.9999999999999996, -4.0), (4.0, -4.0), (6.0, -4.0)], [(-6.0, -2.0), (-4.0, -2.0), (-2.0, -2.0), (0.0, -2.0), (1.9999999999999996, -2.0), (4.0, -2.0), (6.0, -2.0)], [(-6.0, 0.0), (-4.0, 0.0), (-2.0, 0.0), (0.0, 0.0), (1.9999999999999996, 0.0), (4.0, 0.0), (6.0, 0.0)], [(-6.0, 1.9999999999999996), (-4.0, 1.9999999999999996), (-2.0, 1.9999999999999996), (0.0, 1.9999999999999996), (1.9999999999999996, 1.9999999999999996), (4.0, 1.9999999999999996), (6.0, 1.9999999999999996)], [(-6.0, 4.0), (-4.0, 4.0), (-2.0, 4.0), (0.0, 4.0), (1.9999999999999996, 4.0), (4.0, 4.0), (6.0, 4.0)], [(-6.0, 6.0), (-4.0, 6.0), (-2.0, 6.0), (0.0, 6.0), (1.9999999999999996, 6.0), (4.0, 6.0), (6.0, 6.0)]]\n",
      "________________________________________________________________________________________________________________________\n",
      "<generator object <genexpr> at 0x000001EA54EE7430>\n",
      "next(gen)->[(-6.0, -6.0), (-4.0, -6.0), (-2.0, -6.0), (0.0, -6.0), (1.9999999999999996, -6.0), (4.0, -6.0), (6.0, -6.0)]\n",
      "next(gen)->[(-6.0, -4.0), (-4.0, -4.0), (-2.0, -4.0), (0.0, -4.0), (1.9999999999999996, -4.0), (4.0, -4.0), (6.0, -4.0)]\n"
     ]
    }
   ],
   "source": [
    "n=7\n",
    "print(format([[(2*pi*(2*(u/(n-1))-1),2*pi*(2*(v/(n-1))-1)) for u in range(n)] for v in range(n)]))\n",
    "print(\"_\"*120)\n",
    "print(format(([(2*pi*(2*(u/(n-1))-1),2*pi*(2*(v/(n-1))-1)) for u in range(n)] for v in range(n))))\n",
    "gen=([(2*pi*(2*(u/(n-1))-1),2*pi*(2*(v/(n-1))-1)) for u in range(n)] for v in range(n))\n",
    "print(\"next(gen)->{}\".format(next(gen)))\n",
    "print(\"next(gen)->{}\".format(next(gen)))"
   ]
  },
  {
   "cell_type": "code",
   "execution_count": 108,
   "id": "1828a437-5aa0-4fa5-966f-c253de0b8d2b",
   "metadata": {},
   "outputs": [
    {
     "name": "stdout",
     "output_type": "stream",
     "text": [
      "f_convert_a('3.1415')->3.1415\n",
      "f_convert_a('string')->string\n"
     ]
    }
   ],
   "source": [
    "def f_convert_a(x):\n",
    "    try:\n",
    "        return float(x)\n",
    "    except:\n",
    "        return x\n",
    "print(\"f_convert_a('3.1415')->{}\".format(f_convert_a('3.1415')))    \n",
    "print(\"f_convert_a('string')->{}\".format(f_convert_a('string')))  "
   ]
  },
  {
   "cell_type": "code",
   "execution_count": 111,
   "id": "a660055a-78f2-4286-83f2-079c8440ab25",
   "metadata": {},
   "outputs": [
    {
     "name": "stdout",
     "output_type": "stream",
     "text": [
      "f_convert_b('3.1415')->3.1415\n",
      "f_convert_b('string')->string\n"
     ]
    }
   ],
   "source": [
    "def f_convert_b(x):\n",
    "    try:\n",
    "        return float(x)\n",
    "    except ValueError:\n",
    "        return x\n",
    "print(\"f_convert_b('3.1415')->{}\".format(f_convert_b('3.1415')))    \n",
    "print(\"f_convert_b('string')->{}\".format(f_convert_b('string')))  #这又是啥#\n",
    "#捕捉异常#"
   ]
  },
  {
   "cell_type": "code",
   "execution_count": 112,
   "id": "a2657e72-ba76-47a9-a54c-dd773350fc35",
   "metadata": {},
   "outputs": [
    {
     "name": "stdout",
     "output_type": "stream",
     "text": [
      "f_convert_c('3.1415')->3.1415\n",
      "f_convert_c('string')->string\n",
      "(3, 6, 7) TypeError\n",
      "f_convert_c(3,6,7)->None\n"
     ]
    }
   ],
   "source": [
    "def f_convert_c(x):\n",
    "    try:\n",
    "        return float(x)\n",
    "    except ValueError:\n",
    "        return x\n",
    "    except TypeError:\n",
    "        print(x,'TypeError')\n",
    "print(\"f_convert_c('3.1415')->{}\".format(f_convert_c('3.1415')))    \n",
    "print(\"f_convert_c('string')->{}\".format(f_convert_c('string')))  \n",
    "print(\"f_convert_c(3,6,7)->{}\".format(f_convert_c((3,6,7))))         "
   ]
  },
  {
   "cell_type": "code",
   "execution_count": 113,
   "id": "5798345e-fd4e-4cb0-a854-7e60c2dc0320",
   "metadata": {},
   "outputs": [
    {
     "name": "stdout",
     "output_type": "stream",
     "text": [
      "f_convert_d('3.1415')->3.1415\n",
      "string ValueError or TypeError\n",
      "f_convert_d('string')->None\n",
      "(3, 6, 7) ValueError or TypeError\n",
      "f_convert_d(3,6,7)->None\n"
     ]
    }
   ],
   "source": [
    "def f_convert_d(x):\n",
    "    try:\n",
    "        return float(x)\n",
    "    except (ValueError,TypeError):\n",
    "        print(x,'ValueError or TypeError')\n",
    "print(\"f_convert_d('3.1415')->{}\".format(f_convert_d('3.1415')))    \n",
    "print(\"f_convert_d('string')->{}\".format(f_convert_d('string')))  \n",
    "print(\"f_convert_d(3,6,7)->{}\".format(f_convert_d((3,6,7)))) "
   ]
  },
  {
   "cell_type": "code",
   "execution_count": 114,
   "id": "e24715f5-6fad-4314-a5f1-785c3b011199",
   "metadata": {},
   "outputs": [
    {
     "name": "stdout",
     "output_type": "stream",
     "text": [
      "f_convert_e('3.1415')->3.1415\n",
      "string could not convert string to float: 'string'\n",
      "f_convert_e('string')->None\n",
      "(3, 6, 7) float() argument must be a string or a number, not 'tuple'\n",
      "f_convert_e(3,6,7)->None\n"
     ]
    }
   ],
   "source": [
    "def f_convert_e(x):\n",
    "    try:\n",
    "        return float(x)\n",
    "    except (ValueError,TypeError) as e:\n",
    "        return print(x,e)\n",
    "print(\"f_convert_e('3.1415')->{}\".format(f_convert_e('3.1415')))    \n",
    "print(\"f_convert_e('string')->{}\".format(f_convert_e('string')))  \n",
    "print(\"f_convert_e(3,6,7)->{}\".format(f_convert_e((3,6,7))))    "
   ]
  },
  {
   "cell_type": "code",
   "execution_count": 115,
   "id": "6108de58-8e3f-4b00-ab4c-a5efa291d595",
   "metadata": {},
   "outputs": [
    {
     "name": "stdout",
     "output_type": "stream",
     "text": [
      "f_convert_f('3.1415')->3.1415\n",
      "f_convert_f('string')->None\n",
      "f_convert_f(3,6,7)->None\n"
     ]
    }
   ],
   "source": [
    "def f_convert_f(x):   #使用pass语句可以忽略异常#\n",
    "    try:\n",
    "        return float(x)\n",
    "    except (ValueError,TypeError) as e:\n",
    "        pass\n",
    "print(\"f_convert_f('3.1415')->{}\".format(f_convert_f('3.1415')))    \n",
    "print(\"f_convert_f('string')->{}\".format(f_convert_f('string')))  \n",
    "print(\"f_convert_f(3,6,7)->{}\".format(f_convert_f((3,6,7))))     "
   ]
  },
  {
   "cell_type": "code",
   "execution_count": 117,
   "id": "a9aa90b1-3606-4135-af58-d555831a8f39",
   "metadata": {},
   "outputs": [
    {
     "name": "stdout",
     "output_type": "stream",
     "text": [
      "Unable to open ./data/tryException.txt :[Errno 2] No such file or directory: './data/tryException.txt'\n",
      "\n",
      "tryException_content->None\n",
      "Unable to open ./data/tryException_.txt :[Errno 2] No such file or directory: './data/tryException_.txt'\n",
      "\n"
     ]
    }
   ],
   "source": [
    "def f_open_a(fp):#try和else#\n",
    "    try:\n",
    "        f=open(fp,'r')\n",
    "    except IOError as a:\n",
    "        print('Unable to open',fp,':%s\\n' %a)\n",
    "    else:\n",
    "        data=f.read()\n",
    "        f.close\n",
    "        return data\n",
    "tryException_content=f_open_a(\"./data/tryException.txt\")   \n",
    "print(\"tryException_content->{}\".format(tryException_content))\n",
    "f_open_a(\"./data/tryException_.txt\")"
   ]
  },
  {
   "cell_type": "code",
   "execution_count": 118,
   "id": "60428a3b-05ce-43c2-bf30-6be82afa11d1",
   "metadata": {},
   "outputs": [
    {
     "name": "stdout",
     "output_type": "stream",
     "text": [
      "Unable to open ./data/tryException.txt :[Errno 2] No such file or directory: './data/tryException.txt'\n",
      "\n",
      "done!\n"
     ]
    }
   ],
   "source": [
    "def f_open_b(fp):#如果没有引发异常，finally子句的代码将在try代码块中的代码执行完毕后立即执行；#\n",
    "    try:         #如果引发了异常，控制权首先传递给finally子句的第一条语句。这段代码执行完毕后，将重新引发异常然后交由另一个异常处理程序进行处理#\n",
    "        f=open(fp,'r')\n",
    "    except IOError as e:\n",
    "        print('Unable to open',fp,':%s\\n' %e)\n",
    "    else:\n",
    "        data=f.read()\n",
    "        f.close()\n",
    "        return data\n",
    "    finally:\n",
    "        print('done!')\n",
    "f_open_b(\"./data/tryException.txt\")        "
   ]
  },
  {
   "cell_type": "code",
   "execution_count": 131,
   "id": "77e1e424-da5b-4cbf-b61a-8365efc44a24",
   "metadata": {},
   "outputs": [
    {
     "ename": "Exception",
     "evalue": "",
     "output_type": "error",
     "traceback": [
      "\u001b[1;31m---------------------------------------------------------------------------\u001b[0m",
      "\u001b[1;31mException\u001b[0m                                 Traceback (most recent call last)",
      "\u001b[1;32m<ipython-input-131-ee49337a58c8>\u001b[0m in \u001b[0;36m<module>\u001b[1;34m\u001b[0m\n\u001b[1;32m----> 1\u001b[1;33m \u001b[1;32mraise\u001b[0m \u001b[0mException\u001b[0m \u001b[1;31m#没有任何有关错误信息的普通异常\u001b[0m\u001b[1;33m\u001b[0m\u001b[1;33m\u001b[0m\u001b[0m\n\u001b[0m",
      "\u001b[1;31mException\u001b[0m: "
     ]
    }
   ],
   "source": [
    "raise Exception #没有任何有关错误信息的普通异常"
   ]
  },
  {
   "cell_type": "code",
   "execution_count": 133,
   "id": "d3cce9aa-64c3-4166-b7ef-8f232cec5bfa",
   "metadata": {},
   "outputs": [
    {
     "ename": "Exception",
     "evalue": "It does not work!",
     "output_type": "error",
     "traceback": [
      "\u001b[1;31m---------------------------------------------------------------------------\u001b[0m",
      "\u001b[1;31mException\u001b[0m                                 Traceback (most recent call last)",
      "\u001b[1;32m<ipython-input-133-454182730160>\u001b[0m in \u001b[0;36m<module>\u001b[1;34m\u001b[0m\n\u001b[1;32m----> 1\u001b[1;33m \u001b[1;32mraise\u001b[0m \u001b[0mException\u001b[0m\u001b[1;33m(\u001b[0m\u001b[1;34m'It does not work!'\u001b[0m\u001b[1;33m)\u001b[0m \u001b[1;31m#添加错误信息的异常\u001b[0m\u001b[1;33m\u001b[0m\u001b[1;33m\u001b[0m\u001b[0m\n\u001b[0m",
      "\u001b[1;31mException\u001b[0m: It does not work!"
     ]
    }
   ],
   "source": [
    "raise Exception('It does not work!') #添加错误信息的异常"
   ]
  },
  {
   "cell_type": "code",
   "execution_count": 134,
   "id": "75237ab1-c266-4d89-96b8-ca45e77f8bcd",
   "metadata": {},
   "outputs": [
    {
     "ename": "some_custom_exception",
     "evalue": "",
     "output_type": "error",
     "traceback": [
      "\u001b[1;31m---------------------------------------------------------------------------\u001b[0m",
      "\u001b[1;31msome_custom_exception\u001b[0m                     Traceback (most recent call last)",
      "\u001b[1;32m<ipython-input-134-dd2d27a8cc29>\u001b[0m in \u001b[0;36m<module>\u001b[1;34m\u001b[0m\n\u001b[0;32m      1\u001b[0m \u001b[1;32mclass\u001b[0m \u001b[0msome_custom_exception\u001b[0m\u001b[1;33m(\u001b[0m\u001b[0mException\u001b[0m\u001b[1;33m)\u001b[0m\u001b[1;33m:\u001b[0m\u001b[1;32mpass\u001b[0m \u001b[1;31m#\u001b[0m\u001b[1;33m\u001b[0m\u001b[1;33m\u001b[0m\u001b[0m\n\u001b[1;32m----> 2\u001b[1;33m \u001b[1;32mraise\u001b[0m \u001b[0msome_custom_exception\u001b[0m\u001b[1;33m\u001b[0m\u001b[1;33m\u001b[0m\u001b[0m\n\u001b[0m",
      "\u001b[1;31msome_custom_exception\u001b[0m: "
     ]
    }
   ],
   "source": [
    "class some_custom_exception(Exception):pass #\n",
    "raise some_custom_exception"
   ]
  },
  {
   "cell_type": "code",
   "execution_count": 137,
   "id": "d60b52b2-c6ee-4ac6-a2a9-5075e5d3b6cd",
   "metadata": {},
   "outputs": [],
   "source": [
    "x=10\n",
    "assert x>0 #为真则不做任何事情"
   ]
  },
  {
   "cell_type": "code",
   "execution_count": 136,
   "id": "514ef6d7-027d-4c46-9aa3-bd811aeb1b33",
   "metadata": {},
   "outputs": [
    {
     "ename": "AssertionError",
     "evalue": "",
     "output_type": "error",
     "traceback": [
      "\u001b[1;31m---------------------------------------------------------------------------\u001b[0m",
      "\u001b[1;31mAssertionError\u001b[0m                            Traceback (most recent call last)",
      "\u001b[1;32m<ipython-input-136-ba7c61fb1b4f>\u001b[0m in \u001b[0;36m<module>\u001b[1;34m\u001b[0m\n\u001b[1;32m----> 1\u001b[1;33m \u001b[1;32massert\u001b[0m \u001b[0mx\u001b[0m\u001b[1;33m<\u001b[0m\u001b[1;36m0\u001b[0m \u001b[1;31m#为假则引发AssertionError异常\u001b[0m\u001b[1;33m\u001b[0m\u001b[1;33m\u001b[0m\u001b[0m\n\u001b[0m",
      "\u001b[1;31mAssertionError\u001b[0m: "
     ]
    }
   ],
   "source": [
    "assert x<0 #为假则引发AssertionError异常"
   ]
  }
 ],
 "metadata": {
  "kernelspec": {
   "display_name": "Python 3",
   "language": "python",
   "name": "python3"
  },
  "language_info": {
   "codemirror_mode": {
    "name": "ipython",
    "version": 3
   },
   "file_extension": ".py",
   "mimetype": "text/x-python",
   "name": "python",
   "nbconvert_exporter": "python",
   "pygments_lexer": "ipython3",
   "version": "3.8.8"
  }
 },
 "nbformat": 4,
 "nbformat_minor": 5
}
